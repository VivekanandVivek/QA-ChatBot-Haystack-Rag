{
 "cells": [
  {
   "cell_type": "code",
   "execution_count": 1,
   "metadata": {},
   "outputs": [],
   "source": [
    "from haystack.document_stores.in_memory import InMemoryDocumentStore\n",
    "document_store = InMemoryDocumentStore()"
   ]
  },
  {
   "cell_type": "markdown",
   "metadata": {},
   "source": [
    "DATASET FECTCING DIRECTLY FROM HUGGING FACE \n",
    "\n",
    "DATASET KEY = bilgeyucel/seven-wonders"
   ]
  },
  {
   "cell_type": "code",
   "execution_count": 23,
   "metadata": {},
   "outputs": [],
   "source": [
    "from datasets import load_dataset\n",
    "from haystack import Document\n",
    "\n",
    "dataset = load_dataset(\"bilgeyucel/seven-wonders\", split=\"train\")\n",
    "docs = [Document(content=doc[\"content\"], meta=doc[\"meta\"]) for doc in dataset]\n",
    "\n"
   ]
  },
  {
   "cell_type": "code",
   "execution_count": 24,
   "metadata": {},
   "outputs": [],
   "source": [
    "from haystack.components.embedders import SentenceTransformersDocumentEmbedder\n",
    "\n",
    "doc_embedder = SentenceTransformersDocumentEmbedder(model=\"sentence-transformers/all-MiniLM-L6-v2\")\n",
    "doc_embedder.warm_up()"
   ]
  },
  {
   "cell_type": "code",
   "execution_count": 25,
   "metadata": {},
   "outputs": [
    {
     "name": "stderr",
     "output_type": "stream",
     "text": [
      "Batches:   0%|          | 0/5 [00:00<?, ?it/s]"
     ]
    },
    {
     "name": "stderr",
     "output_type": "stream",
     "text": [
      "Batches: 100%|██████████| 5/5 [00:08<00:00,  1.70s/it]\n"
     ]
    },
    {
     "ename": "DuplicateDocumentError",
     "evalue": "ID '75fd8474f2c88337f7e0dad69eba0f24ba293cb06693fb746ec403df01a1c0c5' already exists.",
     "output_type": "error",
     "traceback": [
      "\u001b[31m---------------------------------------------------------------------------\u001b[39m",
      "\u001b[31mDuplicateDocumentError\u001b[39m                    Traceback (most recent call last)",
      "\u001b[36mCell\u001b[39m\u001b[36m \u001b[39m\u001b[32mIn[25]\u001b[39m\u001b[32m, line 2\u001b[39m\n\u001b[32m      1\u001b[39m docs_with_embeddings = doc_embedder.run(docs)\n\u001b[32m----> \u001b[39m\u001b[32m2\u001b[39m \u001b[43mdocument_store\u001b[49m\u001b[43m.\u001b[49m\u001b[43mwrite_documents\u001b[49m\u001b[43m(\u001b[49m\u001b[43mdocs_with_embeddings\u001b[49m\u001b[43m[\u001b[49m\u001b[33;43m\"\u001b[39;49m\u001b[33;43mdocuments\u001b[39;49m\u001b[33;43m\"\u001b[39;49m\u001b[43m]\u001b[49m\u001b[43m)\u001b[49m\n",
      "\u001b[36mFile \u001b[39m\u001b[32m~/Desktop/RAG-APP-HAYSTACK/venv/lib/python3.12/site-packages/haystack/document_stores/in_memory/document_store.py:452\u001b[39m, in \u001b[36mInMemoryDocumentStore.write_documents\u001b[39m\u001b[34m(self, documents, policy)\u001b[39m\n\u001b[32m    450\u001b[39m \u001b[38;5;28;01mif\u001b[39;00m policy != DuplicatePolicy.OVERWRITE \u001b[38;5;129;01mand\u001b[39;00m document.id \u001b[38;5;129;01min\u001b[39;00m \u001b[38;5;28mself\u001b[39m.storage.keys():\n\u001b[32m    451\u001b[39m     \u001b[38;5;28;01mif\u001b[39;00m policy == DuplicatePolicy.FAIL:\n\u001b[32m--> \u001b[39m\u001b[32m452\u001b[39m         \u001b[38;5;28;01mraise\u001b[39;00m DuplicateDocumentError(\u001b[33mf\u001b[39m\u001b[33m\"\u001b[39m\u001b[33mID \u001b[39m\u001b[33m'\u001b[39m\u001b[38;5;132;01m{\u001b[39;00mdocument.id\u001b[38;5;132;01m}\u001b[39;00m\u001b[33m'\u001b[39m\u001b[33m already exists.\u001b[39m\u001b[33m\"\u001b[39m)\n\u001b[32m    453\u001b[39m     \u001b[38;5;28;01mif\u001b[39;00m policy == DuplicatePolicy.SKIP:\n\u001b[32m    454\u001b[39m         logger.warning(\u001b[33m\"\u001b[39m\u001b[33mID \u001b[39m\u001b[33m'\u001b[39m\u001b[38;5;132;01m{document_id}\u001b[39;00m\u001b[33m'\u001b[39m\u001b[33m already exists\u001b[39m\u001b[33m\"\u001b[39m, document_id=document.id)\n",
      "\u001b[31mDuplicateDocumentError\u001b[39m: ID '75fd8474f2c88337f7e0dad69eba0f24ba293cb06693fb746ec403df01a1c0c5' already exists."
     ]
    }
   ],
   "source": [
    "docs_with_embeddings = doc_embedder.run(docs)\n",
    "document_store.write_documents(docs_with_embeddings[\"documents\"])\n"
   ]
  },
  {
   "cell_type": "markdown",
   "metadata": {},
   "source": [
    "FOR USER QUERY I HAVE TO CREATE A TEXT EMBEDDER(ALSO DEFINED IN THE HAYSTACK DOCUMENTATION)"
   ]
  },
  {
   "cell_type": "code",
   "execution_count": 6,
   "metadata": {},
   "outputs": [],
   "source": [
    "from haystack.components.embedders import SentenceTransformersTextEmbedder\n",
    "\n",
    "text_embedder = SentenceTransformersTextEmbedder(model=\"sentence-transformers/all-MiniLM-L6-v2\")\n"
   ]
  },
  {
   "cell_type": "code",
   "execution_count": 7,
   "metadata": {},
   "outputs": [],
   "source": [
    "from haystack.components.retrievers.in_memory import InMemoryEmbeddingRetriever\n",
    "\n",
    "retriever = InMemoryEmbeddingRetriever(document_store)"
   ]
  },
  {
   "cell_type": "code",
   "execution_count": 8,
   "metadata": {},
   "outputs": [
    {
     "name": "stderr",
     "output_type": "stream",
     "text": [
      "ChatPromptBuilder has 2 prompt variables, but `required_variables` is not set. By default, all prompt variables are treated as optional, which may lead to unintended behavior in multi-branch pipelines. To avoid unexpected execution, ensure that variables intended to be required are explicitly set in `required_variables`.\n"
     ]
    }
   ],
   "source": [
    "from haystack.components.builders import ChatPromptBuilder\n",
    "from haystack.dataclasses import ChatMessage\n",
    "\n",
    "template = [\n",
    "    ChatMessage.from_user(\n",
    "    \"\"\"Given the following information, answer the question.\n",
    "    \n",
    "    comtext:\n",
    "    {% for document in documents %}\n",
    "        {{ document.content}}\n",
    "    {% endfor %}\n",
    "    \n",
    "    Question: {{question}}\n",
    "    Answer:\n",
    "    \"\"\"\n",
    "    )\n",
    "]\n",
    "\n",
    "prompt_builder = ChatPromptBuilder(template=template)"
   ]
  },
  {
   "cell_type": "code",
   "execution_count": 10,
   "metadata": {},
   "outputs": [],
   "source": [
    "import os\n",
    "from getpass import getpass\n",
    "from haystack.components.generators.chat import OpenAIChatGenerator\n",
    "\n",
    "if \"OPENAI_API_KEY\" not in os.environ:\n",
    "    os.environ[\"OPENAI_API_KEY\"] = getpass(\"Enter OpenAI API key:\")\n",
    "chat_generator = OpenAIChatGenerator(model=\"gpt-4o-mini\")\n"
   ]
  },
  {
   "cell_type": "markdown",
   "metadata": {},
   "source": [
    "CREATING PIPELING COMPONENTS\n"
   ]
  },
  {
   "cell_type": "code",
   "execution_count": 11,
   "metadata": {},
   "outputs": [],
   "source": [
    "from haystack import Pipeline\n",
    "\n",
    "rag_pipeline = Pipeline()\n",
    "\n",
    "rag_pipeline.add_component(\"text_embedder\",text_embedder)\n",
    "rag_pipeline.add_component(\"retriever\",retriever)\n",
    "rag_pipeline.add_component(\"prompt_builder\",prompt_builder)\n",
    "rag_pipeline.add_component(\"llm\",chat_generator)\n"
   ]
  },
  {
   "cell_type": "markdown",
   "metadata": {},
   "source": [
    "CONNECTING COMPONENT WITH THE RAG PIPELINE"
   ]
  },
  {
   "cell_type": "code",
   "execution_count": 12,
   "metadata": {},
   "outputs": [
    {
     "data": {
      "text/plain": [
       "<haystack.core.pipeline.pipeline.Pipeline object at 0x7fddc6b8ede0>\n",
       "🚅 Components\n",
       "  - text_embedder: SentenceTransformersTextEmbedder\n",
       "  - retriever: InMemoryEmbeddingRetriever\n",
       "  - prompt_builder: ChatPromptBuilder\n",
       "  - llm: OpenAIChatGenerator\n",
       "🛤️ Connections\n",
       "  - text_embedder.embedding -> retriever.query_embedding (List[float])\n",
       "  - retriever.documents -> prompt_builder.documents (List[Document])\n",
       "  - prompt_builder.prompt -> llm.messages (List[ChatMessage])"
      ]
     },
     "execution_count": 12,
     "metadata": {},
     "output_type": "execute_result"
    }
   ],
   "source": [
    "rag_pipeline.connect(\"text_embedder.embedding\",\"retriever.query_embedding\")\n",
    "rag_pipeline.connect(\"retriever\",\"prompt_builder\")\n",
    "rag_pipeline.connect(\"prompt_builder.prompt\",\"llm.messages\")"
   ]
  },
  {
   "cell_type": "markdown",
   "metadata": {},
   "source": [
    "CREATING EXAMPLE QUESTIONS\n"
   ]
  },
  {
   "cell_type": "code",
   "execution_count": 13,
   "metadata": {},
   "outputs": [],
   "source": [
    "examples = [\n",
    "    \"Where is Gardens of Babylon?\",\n",
    "    \"Why did people build Great Pyramid of Giza?\",\n",
    "    \"What does Rhodes Statue look like?\",\n",
    "    \"Why did people visit the Temple of Artemis?\",\n",
    "    \"What is the importance of Colossus of Rhodes?\",\n",
    "    \"What happened to the Tomb of Mausolus?\",\n",
    "    \"How did Colossus of Rhodes collapse?\",\n",
    "]\n"
   ]
  },
  {
   "cell_type": "code",
   "execution_count": 26,
   "metadata": {},
   "outputs": [
    {
     "name": "stderr",
     "output_type": "stream",
     "text": [
      "Batches: 100%|██████████| 1/1 [00:00<00:00, 62.72it/s]\n"
     ]
    },
    {
     "name": "stdout",
     "output_type": "stream",
     "text": [
      "People visited the Temple of Artemis for several reasons:\n",
      "\n",
      "1. **Religious Significance**: The temple was dedicated to the goddess Artemis, and it served as a major religious site where worshippers paid homage and sought the goddess's protection. It was a place for offerings, prayers, and participation in various religious rituals.\n",
      "\n",
      "2. **Cultural Events and Festivals**: The temple was the center of the Ephesian Artemis festival (Artemisia), one of the largest and most significant religious festivals in Ephesus. This festival attracted large crowds, bringing together people for games, contests, theatrical performances, and processions in honor of Artemis.\n",
      "\n",
      "3. **Sanctuary**: The temple offered sanctuary to individuals fleeing persecution or punishment, which enhanced its reputation as a place of safety and refuge.\n",
      "\n",
      "4. **Tourism and Sightseeing**: The Temple of Artemis was considered one of the Seven Wonders of the Ancient World. Its grandeur and architectural beauty drew merchants, kings, and sightseers who wanted to admire its magnificence and historical significance.\n",
      "\n",
      "5. **Economic Activity**: The influx of visitors to the temple contributed to local economic life, encouraging trade and commerce in the region.\n",
      "\n",
      "Overall, the Temple of Artemis was not only a religious center but also a cultural and economic hub, making it a prominent destination for visitors in the ancient world.\n"
     ]
    }
   ],
   "source": [
    "question = \"Why did people visit the Temple of Artemis?\"\n",
    "\n",
    "res = rag_pipeline.run({\"text_embedder\":{\"text\":question},\"prompt_builder\":{\"question\":question}})\n",
    "# print(res)\n",
    "# Extract the text\n",
    "ans = res['llm']['replies'][0]._content[0].text\n",
    "print(ans)"
   ]
  },
  {
   "cell_type": "code",
   "execution_count": null,
   "metadata": {},
   "outputs": [],
   "source": []
  }
 ],
 "metadata": {
  "kernelspec": {
   "display_name": "venv",
   "language": "python",
   "name": "python3"
  },
  "language_info": {
   "codemirror_mode": {
    "name": "ipython",
    "version": 3
   },
   "file_extension": ".py",
   "mimetype": "text/x-python",
   "name": "python",
   "nbconvert_exporter": "python",
   "pygments_lexer": "ipython3",
   "version": "3.12.9"
  }
 },
 "nbformat": 4,
 "nbformat_minor": 2
}
